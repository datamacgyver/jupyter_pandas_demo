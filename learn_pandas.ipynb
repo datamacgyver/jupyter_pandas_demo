{
 "cells": [
  {
   "cell_type": "markdown",
   "metadata": {
    "pycharm": {
     "name": "#%% md\n"
    }
   },
   "source": [
    "# This is a Jupyter Notebook\n",
    "\n",
    "It's great, you can basically divide up your thinking into individual units, check your outputs and iterate quickly. You install jupyter with pip, I'd recommend using [jupyter labs](https://jupyterlab.readthedocs.io/en/stable/getting_started/installation.html) over notebooks as it gives you some nice extra features.\n",
    "\n",
    "The danger is of course that if you run things out of order you will get yourself into bother! As such it's good to adopt some good practices:\n",
    "* Imports at the top\n",
    "* Reading in data and essential data prep next\n",
    "* Then iterating and playing\n",
    "* Oh, and use sensible names! I know it's a scratch pad but help future you out!"
   ]
  },
  {
   "cell_type": "markdown",
   "metadata": {
    "pycharm": {
     "name": "#%% md\n"
    }
   },
   "source": [
    "## Things you need to know from the get go\n",
    "There's two modes, editor and command. In command mode you can move between cells, add new ones (press a or b) or delete them (press dd). You can also change the cell type to markdown (press m).\n",
    "\n",
    "Edit a cell by pressing enter, toggle back to command with escape.\n",
    "\n",
    "Execute with ctrl+enter to stay in a cell, shift+enter to move to the next one.\n",
    "\n",
    "[here's a command cheat sheet](https://www.edureka.co/blog/wp-content/uploads/2018/10/Jupyter_Notebook_CheatSheet_Edureka.pdf) but that's pretty much all I have in my muscle memory"
   ]
  },
  {
   "cell_type": "markdown",
   "metadata": {
    "pycharm": {
     "name": "#%% md\n"
    }
   },
   "source": [
    "# Working with git\n",
    "Jupyter and Git do not get along. Under the bonnet jupyter is a mess of json that is both complex and frequenlty updated. Be really careful what you commit and push as a conflict is often easier to roll back than resolve.\n",
    "\n",
    "R does this better but that's not the world we are in."
   ]
  },
  {
   "cell_type": "markdown",
   "metadata": {
    "pycharm": {
     "name": "#%% md\n"
    }
   },
   "source": [
    "# Do I have to use Python?\n",
    "Nope. You can get kernels for Scala, pyspark, R and many other languages. If it's REPL it probably exists, if it isn't it may do anyway."
   ]
  },
  {
   "cell_type": "markdown",
   "metadata": {
    "pycharm": {
     "name": "#%% md\n"
    }
   },
   "source": [
    "# Pandas is your data workhorse in most environments\n",
    "Provided it fits in RAM of course!"
   ]
  },
  {
   "cell_type": "code",
   "execution_count": 1,
   "metadata": {
    "tags": []
   },
   "outputs": [],
   "source": [
    "import pandas as pd"
   ]
  },
  {
   "cell_type": "markdown",
   "metadata": {
    "pycharm": {
     "name": "#%% md\n"
    }
   },
   "source": [
    "# Reading data\n",
    "Easy enough this, you can also read data from a dict, json, parquet or even a sql query if that's your bag. Today we will be working with a dataset of Star Wars characters I lifted off the internet. It's my session so live with it!"
   ]
  },
  {
   "cell_type": "code",
   "execution_count": 7,
   "metadata": {
    "collapsed": false,
    "jupyter": {
     "outputs_hidden": false
    },
    "pycharm": {
     "name": "#%%\n"
    }
   },
   "outputs": [
    {
     "data": {
      "text/html": [
       "<div>\n",
       "<style scoped>\n",
       "    .dataframe tbody tr th:only-of-type {\n",
       "        vertical-align: middle;\n",
       "    }\n",
       "\n",
       "    .dataframe tbody tr th {\n",
       "        vertical-align: top;\n",
       "    }\n",
       "\n",
       "    .dataframe thead th {\n",
       "        text-align: right;\n",
       "    }\n",
       "</style>\n",
       "<table border=\"1\" class=\"dataframe\">\n",
       "  <thead>\n",
       "    <tr style=\"text-align: right;\">\n",
       "      <th></th>\n",
       "      <th>name</th>\n",
       "      <th>height</th>\n",
       "      <th>mass</th>\n",
       "      <th>hair_color</th>\n",
       "      <th>skin_color</th>\n",
       "      <th>eye_color</th>\n",
       "      <th>birth_year</th>\n",
       "      <th>gender</th>\n",
       "      <th>homeworld</th>\n",
       "      <th>species</th>\n",
       "      <th>films</th>\n",
       "      <th>vehicles</th>\n",
       "      <th>starship</th>\n",
       "    </tr>\n",
       "  </thead>\n",
       "  <tbody>\n",
       "    <tr>\n",
       "      <th>0</th>\n",
       "      <td>Luke Skywalker</td>\n",
       "      <td>172</td>\n",
       "      <td>77.0</td>\n",
       "      <td>blond</td>\n",
       "      <td>fair</td>\n",
       "      <td>blue</td>\n",
       "      <td>19.0</td>\n",
       "      <td>male</td>\n",
       "      <td>Tatooine</td>\n",
       "      <td>Human</td>\n",
       "      <td>Revenge of the Sith, Return of the Jedi, The E...</td>\n",
       "      <td>Snowspeeder, Imperial Speeder Bike</td>\n",
       "      <td>X-wing, Imperial shuttle</td>\n",
       "    </tr>\n",
       "    <tr>\n",
       "      <th>1</th>\n",
       "      <td>C-3PO</td>\n",
       "      <td>167</td>\n",
       "      <td>75.0</td>\n",
       "      <td>NaN</td>\n",
       "      <td>gold</td>\n",
       "      <td>yellow</td>\n",
       "      <td>112.0</td>\n",
       "      <td>NaN</td>\n",
       "      <td>Tatooine</td>\n",
       "      <td>Droid</td>\n",
       "      <td>Attack of the Clones, The Phantom Menace, Reve...</td>\n",
       "      <td>NaN</td>\n",
       "      <td>NaN</td>\n",
       "    </tr>\n",
       "    <tr>\n",
       "      <th>2</th>\n",
       "      <td>R2-D2</td>\n",
       "      <td>96</td>\n",
       "      <td>32.0</td>\n",
       "      <td>NaN</td>\n",
       "      <td>white, blue</td>\n",
       "      <td>red</td>\n",
       "      <td>33.0</td>\n",
       "      <td>NaN</td>\n",
       "      <td>Naboo</td>\n",
       "      <td>Droid</td>\n",
       "      <td>Attack of the Clones, The Phantom Menace, Reve...</td>\n",
       "      <td>NaN</td>\n",
       "      <td>NaN</td>\n",
       "    </tr>\n",
       "    <tr>\n",
       "      <th>3</th>\n",
       "      <td>Darth Vader</td>\n",
       "      <td>202</td>\n",
       "      <td>136.0</td>\n",
       "      <td>none</td>\n",
       "      <td>white</td>\n",
       "      <td>yellow</td>\n",
       "      <td>41.9</td>\n",
       "      <td>male</td>\n",
       "      <td>Tatooine</td>\n",
       "      <td>Human</td>\n",
       "      <td>Revenge of the Sith, Return of the Jedi, The E...</td>\n",
       "      <td>NaN</td>\n",
       "      <td>TIE Advanced x1</td>\n",
       "    </tr>\n",
       "    <tr>\n",
       "      <th>4</th>\n",
       "      <td>Leia Organa</td>\n",
       "      <td>150</td>\n",
       "      <td>49.0</td>\n",
       "      <td>brown</td>\n",
       "      <td>light</td>\n",
       "      <td>brown</td>\n",
       "      <td>19.0</td>\n",
       "      <td>female</td>\n",
       "      <td>Alderaan</td>\n",
       "      <td>Human</td>\n",
       "      <td>Revenge of the Sith, Return of the Jedi, The E...</td>\n",
       "      <td>Imperial Speeder Bike</td>\n",
       "      <td>NaN</td>\n",
       "    </tr>\n",
       "  </tbody>\n",
       "</table>\n",
       "</div>"
      ],
      "text/plain": [
       "             name  height   mass hair_color   skin_color eye_color  \\\n",
       "0  Luke Skywalker     172   77.0      blond         fair      blue   \n",
       "1           C-3PO     167   75.0        NaN         gold    yellow   \n",
       "2           R2-D2      96   32.0        NaN  white, blue       red   \n",
       "3     Darth Vader     202  136.0       none        white    yellow   \n",
       "4     Leia Organa     150   49.0      brown        light     brown   \n",
       "\n",
       "   birth_year  gender homeworld species  \\\n",
       "0        19.0    male  Tatooine   Human   \n",
       "1       112.0     NaN  Tatooine   Droid   \n",
       "2        33.0     NaN     Naboo   Droid   \n",
       "3        41.9    male  Tatooine   Human   \n",
       "4        19.0  female  Alderaan   Human   \n",
       "\n",
       "                                               films  \\\n",
       "0  Revenge of the Sith, Return of the Jedi, The E...   \n",
       "1  Attack of the Clones, The Phantom Menace, Reve...   \n",
       "2  Attack of the Clones, The Phantom Menace, Reve...   \n",
       "3  Revenge of the Sith, Return of the Jedi, The E...   \n",
       "4  Revenge of the Sith, Return of the Jedi, The E...   \n",
       "\n",
       "                             vehicles                  starship  \n",
       "0  Snowspeeder, Imperial Speeder Bike  X-wing, Imperial shuttle  \n",
       "1                                 NaN                       NaN  \n",
       "2                                 NaN                       NaN  \n",
       "3                                 NaN           TIE Advanced x1  \n",
       "4               Imperial Speeder Bike                       NaN  "
      ]
     },
     "execution_count": 7,
     "metadata": {},
     "output_type": "execute_result"
    }
   ],
   "source": [
    "sw_df = pd.read_csv(\"star_wars.csv\")\n",
    "sw_df.head()"
   ]
  },
  {
   "cell_type": "markdown",
   "metadata": {
    "pycharm": {
     "name": "#%% md\n"
    }
   },
   "source": [
    "# The Dataframe Object\n",
    "Pandas Dataframes are objects with various attributes and methods. Let's start simple, looking at the shape attribute:"
   ]
  },
  {
   "cell_type": "code",
   "execution_count": 8,
   "metadata": {
    "collapsed": false,
    "jupyter": {
     "outputs_hidden": false
    },
    "pycharm": {
     "name": "#%%\n"
    }
   },
   "outputs": [
    {
     "data": {
      "text/plain": [
       "(87, 13)"
      ]
     },
     "execution_count": 8,
     "metadata": {},
     "output_type": "execute_result"
    }
   ],
   "source": [
    "sw_df.shape"
   ]
  },
  {
   "cell_type": "markdown",
   "metadata": {
    "pycharm": {
     "name": "#%% md\n"
    }
   },
   "source": [
    "This is Rows, columns (x, y). Remember this order as it's used everywhere. Rows are axis 0 and columns are axis 1."
   ]
  },
  {
   "cell_type": "markdown",
   "metadata": {},
   "source": [
    "## Rows\n",
    "I hate pandas rows. They awful as the idea of a row index is pretty strongly enforced and can create some natty issues, especially with joining or creating CSVs. Many is the time a weird bug will be fixed by resetting the index.\n",
    "\n",
    "You can see the index here on the left but it's also accessible as an attribute.\n"
   ]
  },
  {
   "cell_type": "code",
   "execution_count": 9,
   "metadata": {
    "collapsed": false,
    "jupyter": {
     "outputs_hidden": false
    },
    "pycharm": {
     "name": "#%%\n"
    }
   },
   "outputs": [
    {
     "data": {
      "text/html": [
       "<div>\n",
       "<style scoped>\n",
       "    .dataframe tbody tr th:only-of-type {\n",
       "        vertical-align: middle;\n",
       "    }\n",
       "\n",
       "    .dataframe tbody tr th {\n",
       "        vertical-align: top;\n",
       "    }\n",
       "\n",
       "    .dataframe thead th {\n",
       "        text-align: right;\n",
       "    }\n",
       "</style>\n",
       "<table border=\"1\" class=\"dataframe\">\n",
       "  <thead>\n",
       "    <tr style=\"text-align: right;\">\n",
       "      <th></th>\n",
       "      <th>name</th>\n",
       "      <th>height</th>\n",
       "      <th>mass</th>\n",
       "      <th>hair_color</th>\n",
       "      <th>skin_color</th>\n",
       "      <th>eye_color</th>\n",
       "      <th>birth_year</th>\n",
       "      <th>gender</th>\n",
       "      <th>homeworld</th>\n",
       "      <th>species</th>\n",
       "      <th>films</th>\n",
       "      <th>vehicles</th>\n",
       "      <th>starship</th>\n",
       "    </tr>\n",
       "  </thead>\n",
       "  <tbody>\n",
       "    <tr>\n",
       "      <th>0</th>\n",
       "      <td>Luke Skywalker</td>\n",
       "      <td>172</td>\n",
       "      <td>77.0</td>\n",
       "      <td>blond</td>\n",
       "      <td>fair</td>\n",
       "      <td>blue</td>\n",
       "      <td>19.0</td>\n",
       "      <td>male</td>\n",
       "      <td>Tatooine</td>\n",
       "      <td>Human</td>\n",
       "      <td>Revenge of the Sith, Return of the Jedi, The E...</td>\n",
       "      <td>Snowspeeder, Imperial Speeder Bike</td>\n",
       "      <td>X-wing, Imperial shuttle</td>\n",
       "    </tr>\n",
       "    <tr>\n",
       "      <th>1</th>\n",
       "      <td>C-3PO</td>\n",
       "      <td>167</td>\n",
       "      <td>75.0</td>\n",
       "      <td>NaN</td>\n",
       "      <td>gold</td>\n",
       "      <td>yellow</td>\n",
       "      <td>112.0</td>\n",
       "      <td>NaN</td>\n",
       "      <td>Tatooine</td>\n",
       "      <td>Droid</td>\n",
       "      <td>Attack of the Clones, The Phantom Menace, Reve...</td>\n",
       "      <td>NaN</td>\n",
       "      <td>NaN</td>\n",
       "    </tr>\n",
       "    <tr>\n",
       "      <th>2</th>\n",
       "      <td>R2-D2</td>\n",
       "      <td>96</td>\n",
       "      <td>32.0</td>\n",
       "      <td>NaN</td>\n",
       "      <td>white, blue</td>\n",
       "      <td>red</td>\n",
       "      <td>33.0</td>\n",
       "      <td>NaN</td>\n",
       "      <td>Naboo</td>\n",
       "      <td>Droid</td>\n",
       "      <td>Attack of the Clones, The Phantom Menace, Reve...</td>\n",
       "      <td>NaN</td>\n",
       "      <td>NaN</td>\n",
       "    </tr>\n",
       "    <tr>\n",
       "      <th>3</th>\n",
       "      <td>Darth Vader</td>\n",
       "      <td>202</td>\n",
       "      <td>136.0</td>\n",
       "      <td>none</td>\n",
       "      <td>white</td>\n",
       "      <td>yellow</td>\n",
       "      <td>41.9</td>\n",
       "      <td>male</td>\n",
       "      <td>Tatooine</td>\n",
       "      <td>Human</td>\n",
       "      <td>Revenge of the Sith, Return of the Jedi, The E...</td>\n",
       "      <td>NaN</td>\n",
       "      <td>TIE Advanced x1</td>\n",
       "    </tr>\n",
       "    <tr>\n",
       "      <th>4</th>\n",
       "      <td>Leia Organa</td>\n",
       "      <td>150</td>\n",
       "      <td>49.0</td>\n",
       "      <td>brown</td>\n",
       "      <td>light</td>\n",
       "      <td>brown</td>\n",
       "      <td>19.0</td>\n",
       "      <td>female</td>\n",
       "      <td>Alderaan</td>\n",
       "      <td>Human</td>\n",
       "      <td>Revenge of the Sith, Return of the Jedi, The E...</td>\n",
       "      <td>Imperial Speeder Bike</td>\n",
       "      <td>NaN</td>\n",
       "    </tr>\n",
       "  </tbody>\n",
       "</table>\n",
       "</div>"
      ],
      "text/plain": [
       "             name  height   mass hair_color   skin_color eye_color  \\\n",
       "0  Luke Skywalker     172   77.0      blond         fair      blue   \n",
       "1           C-3PO     167   75.0        NaN         gold    yellow   \n",
       "2           R2-D2      96   32.0        NaN  white, blue       red   \n",
       "3     Darth Vader     202  136.0       none        white    yellow   \n",
       "4     Leia Organa     150   49.0      brown        light     brown   \n",
       "\n",
       "   birth_year  gender homeworld species  \\\n",
       "0        19.0    male  Tatooine   Human   \n",
       "1       112.0     NaN  Tatooine   Droid   \n",
       "2        33.0     NaN     Naboo   Droid   \n",
       "3        41.9    male  Tatooine   Human   \n",
       "4        19.0  female  Alderaan   Human   \n",
       "\n",
       "                                               films  \\\n",
       "0  Revenge of the Sith, Return of the Jedi, The E...   \n",
       "1  Attack of the Clones, The Phantom Menace, Reve...   \n",
       "2  Attack of the Clones, The Phantom Menace, Reve...   \n",
       "3  Revenge of the Sith, Return of the Jedi, The E...   \n",
       "4  Revenge of the Sith, Return of the Jedi, The E...   \n",
       "\n",
       "                             vehicles                  starship  \n",
       "0  Snowspeeder, Imperial Speeder Bike  X-wing, Imperial shuttle  \n",
       "1                                 NaN                       NaN  \n",
       "2                                 NaN                       NaN  \n",
       "3                                 NaN           TIE Advanced x1  \n",
       "4               Imperial Speeder Bike                       NaN  "
      ]
     },
     "execution_count": 9,
     "metadata": {},
     "output_type": "execute_result"
    }
   ],
   "source": [
    "sw_df.head()"
   ]
  },
  {
   "cell_type": "code",
   "execution_count": 10,
   "metadata": {
    "collapsed": false,
    "jupyter": {
     "outputs_hidden": false
    },
    "pycharm": {
     "name": "#%%\n"
    }
   },
   "outputs": [
    {
     "data": {
      "text/html": [
       "<div>\n",
       "<style scoped>\n",
       "    .dataframe tbody tr th:only-of-type {\n",
       "        vertical-align: middle;\n",
       "    }\n",
       "\n",
       "    .dataframe tbody tr th {\n",
       "        vertical-align: top;\n",
       "    }\n",
       "\n",
       "    .dataframe thead th {\n",
       "        text-align: right;\n",
       "    }\n",
       "</style>\n",
       "<table border=\"1\" class=\"dataframe\">\n",
       "  <thead>\n",
       "    <tr style=\"text-align: right;\">\n",
       "      <th></th>\n",
       "      <th>name</th>\n",
       "      <th>height</th>\n",
       "      <th>mass</th>\n",
       "      <th>hair_color</th>\n",
       "      <th>skin_color</th>\n",
       "      <th>eye_color</th>\n",
       "      <th>birth_year</th>\n",
       "      <th>gender</th>\n",
       "      <th>homeworld</th>\n",
       "      <th>species</th>\n",
       "      <th>films</th>\n",
       "      <th>vehicles</th>\n",
       "      <th>starship</th>\n",
       "    </tr>\n",
       "  </thead>\n",
       "  <tbody>\n",
       "    <tr>\n",
       "      <th>0</th>\n",
       "      <td>Luke Skywalker</td>\n",
       "      <td>172</td>\n",
       "      <td>77.0</td>\n",
       "      <td>blond</td>\n",
       "      <td>fair</td>\n",
       "      <td>blue</td>\n",
       "      <td>19.0</td>\n",
       "      <td>male</td>\n",
       "      <td>Tatooine</td>\n",
       "      <td>Human</td>\n",
       "      <td>Revenge of the Sith, Return of the Jedi, The E...</td>\n",
       "      <td>Snowspeeder, Imperial Speeder Bike</td>\n",
       "      <td>X-wing, Imperial shuttle</td>\n",
       "    </tr>\n",
       "    <tr>\n",
       "      <th>1</th>\n",
       "      <td>C-3PO</td>\n",
       "      <td>167</td>\n",
       "      <td>75.0</td>\n",
       "      <td>NaN</td>\n",
       "      <td>gold</td>\n",
       "      <td>yellow</td>\n",
       "      <td>112.0</td>\n",
       "      <td>NaN</td>\n",
       "      <td>Tatooine</td>\n",
       "      <td>Droid</td>\n",
       "      <td>Attack of the Clones, The Phantom Menace, Reve...</td>\n",
       "      <td>NaN</td>\n",
       "      <td>NaN</td>\n",
       "    </tr>\n",
       "    <tr>\n",
       "      <th>2</th>\n",
       "      <td>R2-D2</td>\n",
       "      <td>96</td>\n",
       "      <td>32.0</td>\n",
       "      <td>NaN</td>\n",
       "      <td>white, blue</td>\n",
       "      <td>red</td>\n",
       "      <td>33.0</td>\n",
       "      <td>NaN</td>\n",
       "      <td>Naboo</td>\n",
       "      <td>Droid</td>\n",
       "      <td>Attack of the Clones, The Phantom Menace, Reve...</td>\n",
       "      <td>NaN</td>\n",
       "      <td>NaN</td>\n",
       "    </tr>\n",
       "    <tr>\n",
       "      <th>3</th>\n",
       "      <td>Darth Vader</td>\n",
       "      <td>202</td>\n",
       "      <td>136.0</td>\n",
       "      <td>none</td>\n",
       "      <td>white</td>\n",
       "      <td>yellow</td>\n",
       "      <td>41.9</td>\n",
       "      <td>male</td>\n",
       "      <td>Tatooine</td>\n",
       "      <td>Human</td>\n",
       "      <td>Revenge of the Sith, Return of the Jedi, The E...</td>\n",
       "      <td>NaN</td>\n",
       "      <td>TIE Advanced x1</td>\n",
       "    </tr>\n",
       "    <tr>\n",
       "      <th>4</th>\n",
       "      <td>Leia Organa</td>\n",
       "      <td>150</td>\n",
       "      <td>49.0</td>\n",
       "      <td>brown</td>\n",
       "      <td>light</td>\n",
       "      <td>brown</td>\n",
       "      <td>19.0</td>\n",
       "      <td>female</td>\n",
       "      <td>Alderaan</td>\n",
       "      <td>Human</td>\n",
       "      <td>Revenge of the Sith, Return of the Jedi, The E...</td>\n",
       "      <td>Imperial Speeder Bike</td>\n",
       "      <td>NaN</td>\n",
       "    </tr>\n",
       "    <tr>\n",
       "      <th>...</th>\n",
       "      <td>...</td>\n",
       "      <td>...</td>\n",
       "      <td>...</td>\n",
       "      <td>...</td>\n",
       "      <td>...</td>\n",
       "      <td>...</td>\n",
       "      <td>...</td>\n",
       "      <td>...</td>\n",
       "      <td>...</td>\n",
       "      <td>...</td>\n",
       "      <td>...</td>\n",
       "      <td>...</td>\n",
       "      <td>...</td>\n",
       "    </tr>\n",
       "    <tr>\n",
       "      <th>82</th>\n",
       "      <td>Rey</td>\n",
       "      <td>0</td>\n",
       "      <td>0.0</td>\n",
       "      <td>brown</td>\n",
       "      <td>light</td>\n",
       "      <td>hazel</td>\n",
       "      <td>NaN</td>\n",
       "      <td>female</td>\n",
       "      <td>NaN</td>\n",
       "      <td>Human</td>\n",
       "      <td>The Force Awakens</td>\n",
       "      <td>NaN</td>\n",
       "      <td>NaN</td>\n",
       "    </tr>\n",
       "    <tr>\n",
       "      <th>83</th>\n",
       "      <td>Poe Dameron</td>\n",
       "      <td>0</td>\n",
       "      <td>0.0</td>\n",
       "      <td>brown</td>\n",
       "      <td>light</td>\n",
       "      <td>brown</td>\n",
       "      <td>NaN</td>\n",
       "      <td>male</td>\n",
       "      <td>NaN</td>\n",
       "      <td>Human</td>\n",
       "      <td>The Force Awakens</td>\n",
       "      <td>NaN</td>\n",
       "      <td>T-70 X-wing fighter</td>\n",
       "    </tr>\n",
       "    <tr>\n",
       "      <th>84</th>\n",
       "      <td>BB8</td>\n",
       "      <td>0</td>\n",
       "      <td>0.0</td>\n",
       "      <td>none</td>\n",
       "      <td>none</td>\n",
       "      <td>black</td>\n",
       "      <td>NaN</td>\n",
       "      <td>none</td>\n",
       "      <td>NaN</td>\n",
       "      <td>Droid</td>\n",
       "      <td>The Force Awakens</td>\n",
       "      <td>NaN</td>\n",
       "      <td>NaN</td>\n",
       "    </tr>\n",
       "    <tr>\n",
       "      <th>85</th>\n",
       "      <td>Captain Phasma</td>\n",
       "      <td>0</td>\n",
       "      <td>0.0</td>\n",
       "      <td>unknown</td>\n",
       "      <td>unknown</td>\n",
       "      <td>unknown</td>\n",
       "      <td>0.0</td>\n",
       "      <td>female</td>\n",
       "      <td>NaN</td>\n",
       "      <td>NaN</td>\n",
       "      <td>The Force Awakens</td>\n",
       "      <td>NaN</td>\n",
       "      <td>NaN</td>\n",
       "    </tr>\n",
       "    <tr>\n",
       "      <th>86</th>\n",
       "      <td>Padmé Amidala</td>\n",
       "      <td>165</td>\n",
       "      <td>45.0</td>\n",
       "      <td>brown</td>\n",
       "      <td>light</td>\n",
       "      <td>brown</td>\n",
       "      <td>46.0</td>\n",
       "      <td>female</td>\n",
       "      <td>Naboo</td>\n",
       "      <td>Human</td>\n",
       "      <td>Attack of the Clones, The Phantom Menace, Reve...</td>\n",
       "      <td>NaN</td>\n",
       "      <td>H-type Nubian yacht, Naboo star skiff, Naboo f...</td>\n",
       "    </tr>\n",
       "  </tbody>\n",
       "</table>\n",
       "<p>87 rows × 13 columns</p>\n",
       "</div>"
      ],
      "text/plain": [
       "              name  height   mass hair_color   skin_color eye_color  \\\n",
       "0   Luke Skywalker     172   77.0      blond         fair      blue   \n",
       "1            C-3PO     167   75.0        NaN         gold    yellow   \n",
       "2            R2-D2      96   32.0        NaN  white, blue       red   \n",
       "3      Darth Vader     202  136.0       none        white    yellow   \n",
       "4      Leia Organa     150   49.0      brown        light     brown   \n",
       "..             ...     ...    ...        ...          ...       ...   \n",
       "82             Rey       0    0.0      brown        light     hazel   \n",
       "83     Poe Dameron       0    0.0      brown        light     brown   \n",
       "84             BB8       0    0.0       none         none     black   \n",
       "85  Captain Phasma       0    0.0    unknown      unknown   unknown   \n",
       "86   Padmé Amidala     165   45.0      brown        light     brown   \n",
       "\n",
       "    birth_year  gender homeworld species  \\\n",
       "0         19.0    male  Tatooine   Human   \n",
       "1        112.0     NaN  Tatooine   Droid   \n",
       "2         33.0     NaN     Naboo   Droid   \n",
       "3         41.9    male  Tatooine   Human   \n",
       "4         19.0  female  Alderaan   Human   \n",
       "..         ...     ...       ...     ...   \n",
       "82         NaN  female       NaN   Human   \n",
       "83         NaN    male       NaN   Human   \n",
       "84         NaN    none       NaN   Droid   \n",
       "85         0.0  female       NaN     NaN   \n",
       "86        46.0  female     Naboo   Human   \n",
       "\n",
       "                                                films  \\\n",
       "0   Revenge of the Sith, Return of the Jedi, The E...   \n",
       "1   Attack of the Clones, The Phantom Menace, Reve...   \n",
       "2   Attack of the Clones, The Phantom Menace, Reve...   \n",
       "3   Revenge of the Sith, Return of the Jedi, The E...   \n",
       "4   Revenge of the Sith, Return of the Jedi, The E...   \n",
       "..                                                ...   \n",
       "82                                  The Force Awakens   \n",
       "83                                  The Force Awakens   \n",
       "84                                  The Force Awakens   \n",
       "85                                  The Force Awakens   \n",
       "86  Attack of the Clones, The Phantom Menace, Reve...   \n",
       "\n",
       "                              vehicles  \\\n",
       "0   Snowspeeder, Imperial Speeder Bike   \n",
       "1                                  NaN   \n",
       "2                                  NaN   \n",
       "3                                  NaN   \n",
       "4                Imperial Speeder Bike   \n",
       "..                                 ...   \n",
       "82                                 NaN   \n",
       "83                                 NaN   \n",
       "84                                 NaN   \n",
       "85                                 NaN   \n",
       "86                                 NaN   \n",
       "\n",
       "                                             starship  \n",
       "0                            X-wing, Imperial shuttle  \n",
       "1                                                 NaN  \n",
       "2                                                 NaN  \n",
       "3                                     TIE Advanced x1  \n",
       "4                                                 NaN  \n",
       "..                                                ...  \n",
       "82                                                NaN  \n",
       "83                                T-70 X-wing fighter  \n",
       "84                                                NaN  \n",
       "85                                                NaN  \n",
       "86  H-type Nubian yacht, Naboo star skiff, Naboo f...  \n",
       "\n",
       "[87 rows x 13 columns]"
      ]
     },
     "execution_count": 10,
     "metadata": {},
     "output_type": "execute_result"
    }
   ],
   "source": [
    "sw_df"
   ]
  },
  {
   "cell_type": "code",
   "execution_count": 11,
   "metadata": {
    "collapsed": false,
    "jupyter": {
     "outputs_hidden": false
    },
    "pycharm": {
     "name": "#%%\n"
    }
   },
   "outputs": [
    {
     "data": {
      "text/plain": [
       "RangeIndex(start=0, stop=87, step=1)"
      ]
     },
     "execution_count": 11,
     "metadata": {},
     "output_type": "execute_result"
    }
   ],
   "source": [
    "sw_df.index"
   ]
  },
  {
   "cell_type": "markdown",
   "metadata": {
    "pycharm": {
     "name": "#%% md\n"
    }
   },
   "source": [
    "# Columns\n",
    "Columns are objects in and of themselves. They represent individual Pandas series and each have their own data type."
   ]
  },
  {
   "cell_type": "code",
   "execution_count": 12,
   "metadata": {
    "collapsed": false,
    "jupyter": {
     "outputs_hidden": false
    },
    "pycharm": {
     "name": "#%%\n"
    }
   },
   "outputs": [
    {
     "data": {
      "text/plain": [
       "Index(['name', 'height', 'mass', 'hair_color', 'skin_color', 'eye_color',\n",
       "       'birth_year', 'gender', 'homeworld', 'species', 'films', 'vehicles',\n",
       "       'starship'],\n",
       "      dtype='object')"
      ]
     },
     "execution_count": 12,
     "metadata": {},
     "output_type": "execute_result"
    }
   ],
   "source": [
    "sw_df.columns"
   ]
  },
  {
   "cell_type": "code",
   "execution_count": 13,
   "metadata": {
    "collapsed": false,
    "jupyter": {
     "outputs_hidden": false
    },
    "pycharm": {
     "name": "#%%\n"
    }
   },
   "outputs": [
    {
     "data": {
      "text/plain": [
       "name           object\n",
       "height          int64\n",
       "mass          float64\n",
       "hair_color     object\n",
       "skin_color     object\n",
       "eye_color      object\n",
       "birth_year    float64\n",
       "gender         object\n",
       "homeworld      object\n",
       "species        object\n",
       "films          object\n",
       "vehicles       object\n",
       "starship       object\n",
       "dtype: object"
      ]
     },
     "execution_count": 13,
     "metadata": {},
     "output_type": "execute_result"
    }
   ],
   "source": [
    "sw_df.dtypes"
   ]
  },
  {
   "cell_type": "markdown",
   "metadata": {
    "pycharm": {
     "name": "#%% md\n"
    }
   },
   "source": [
    "You can select individual columns (remember these are actually `Series` objects) with dot notation:"
   ]
  },
  {
   "cell_type": "code",
   "execution_count": 14,
   "metadata": {
    "collapsed": false,
    "jupyter": {
     "outputs_hidden": false
    },
    "pycharm": {
     "name": "#%%\n"
    }
   },
   "outputs": [
    {
     "data": {
      "text/plain": [
       "0    172\n",
       "1    167\n",
       "2     96\n",
       "3    202\n",
       "4    150\n",
       "Name: height, dtype: int64"
      ]
     },
     "execution_count": 14,
     "metadata": {},
     "output_type": "execute_result"
    }
   ],
   "source": [
    "sw_df.height.head()"
   ]
  },
  {
   "cell_type": "markdown",
   "metadata": {
    "pycharm": {
     "name": "#%% md\n"
    }
   },
   "source": [
    "## One final gotcha\n",
    "You may have noticed with calls to things like `head()` that most pandas methods *return something*. Very few (if any) will operate on the object itself. This makes a lot of sense when you are playing with data, you don't want to keep overwriting your main dataframe! It does also make a lot of OO people very cross."
   ]
  },
  {
   "cell_type": "markdown",
   "metadata": {
    "pycharm": {
     "name": "#%% md\n"
    }
   },
   "source": [
    "# Basic data exploration\n",
    "\n",
    "Alright, that's the boring stuff out of the way. You may have missed it but we just did a fair bit of exploratory data analysis. Notably:\n",
    "* We have 87 individuals from star wars in our data\n",
    "* We have 13 attributes for each person, we know what they are\n",
    "* Most have been auto-assigned as Objects (strings), height is an integer and mass/birth year are floats. Of course we should check that this makes sense IRL!\n",
    "\n",
    "Let's have a look at some of the data we've extracted. I've not kept all my exploration here for brevity but you can gurantee that each section started with me calling `head()` to remind me of the data structure!\n"
   ]
  },
  {
   "cell_type": "markdown",
   "metadata": {
    "pycharm": {
     "name": "#%% md\n"
    }
   },
   "source": [
    "## High level stats and NA checks"
   ]
  },
  {
   "cell_type": "code",
   "execution_count": 15,
   "metadata": {
    "collapsed": false,
    "jupyter": {
     "outputs_hidden": false
    },
    "pycharm": {
     "name": "#%%\n"
    }
   },
   "outputs": [
    {
     "data": {
      "text/html": [
       "<div>\n",
       "<style scoped>\n",
       "    .dataframe tbody tr th:only-of-type {\n",
       "        vertical-align: middle;\n",
       "    }\n",
       "\n",
       "    .dataframe tbody tr th {\n",
       "        vertical-align: top;\n",
       "    }\n",
       "\n",
       "    .dataframe thead th {\n",
       "        text-align: right;\n",
       "    }\n",
       "</style>\n",
       "<table border=\"1\" class=\"dataframe\">\n",
       "  <thead>\n",
       "    <tr style=\"text-align: right;\">\n",
       "      <th></th>\n",
       "      <th>name</th>\n",
       "      <th>hair_color</th>\n",
       "      <th>skin_color</th>\n",
       "      <th>eye_color</th>\n",
       "      <th>gender</th>\n",
       "      <th>homeworld</th>\n",
       "      <th>species</th>\n",
       "      <th>films</th>\n",
       "      <th>vehicles</th>\n",
       "      <th>starship</th>\n",
       "    </tr>\n",
       "  </thead>\n",
       "  <tbody>\n",
       "    <tr>\n",
       "      <th>count</th>\n",
       "      <td>87</td>\n",
       "      <td>82</td>\n",
       "      <td>87</td>\n",
       "      <td>87</td>\n",
       "      <td>84</td>\n",
       "      <td>77</td>\n",
       "      <td>82</td>\n",
       "      <td>87</td>\n",
       "      <td>11</td>\n",
       "      <td>20</td>\n",
       "    </tr>\n",
       "    <tr>\n",
       "      <th>unique</th>\n",
       "      <td>87</td>\n",
       "      <td>12</td>\n",
       "      <td>31</td>\n",
       "      <td>15</td>\n",
       "      <td>4</td>\n",
       "      <td>48</td>\n",
       "      <td>37</td>\n",
       "      <td>24</td>\n",
       "      <td>10</td>\n",
       "      <td>16</td>\n",
       "    </tr>\n",
       "    <tr>\n",
       "      <th>top</th>\n",
       "      <td>Luke Skywalker</td>\n",
       "      <td>none</td>\n",
       "      <td>fair</td>\n",
       "      <td>brown</td>\n",
       "      <td>male</td>\n",
       "      <td>Naboo</td>\n",
       "      <td>Human</td>\n",
       "      <td>Attack of the Clones</td>\n",
       "      <td>Tribubble bongo</td>\n",
       "      <td>X-wing</td>\n",
       "    </tr>\n",
       "    <tr>\n",
       "      <th>freq</th>\n",
       "      <td>1</td>\n",
       "      <td>37</td>\n",
       "      <td>17</td>\n",
       "      <td>21</td>\n",
       "      <td>62</td>\n",
       "      <td>11</td>\n",
       "      <td>35</td>\n",
       "      <td>13</td>\n",
       "      <td>2</td>\n",
       "      <td>3</td>\n",
       "    </tr>\n",
       "  </tbody>\n",
       "</table>\n",
       "</div>"
      ],
      "text/plain": [
       "                  name hair_color skin_color eye_color gender homeworld  \\\n",
       "count               87         82         87        87     84        77   \n",
       "unique              87         12         31        15      4        48   \n",
       "top     Luke Skywalker       none       fair     brown   male     Naboo   \n",
       "freq                 1         37         17        21     62        11   \n",
       "\n",
       "       species                 films         vehicles starship  \n",
       "count       82                    87               11       20  \n",
       "unique      37                    24               10       16  \n",
       "top      Human  Attack of the Clones  Tribubble bongo   X-wing  \n",
       "freq        35                    13                2        3  "
      ]
     },
     "execution_count": 15,
     "metadata": {},
     "output_type": "execute_result"
    }
   ],
   "source": [
    "sw_df.describe(include=\"object\") # Needed to check non-numerics"
   ]
  },
  {
   "cell_type": "code",
   "execution_count": 16,
   "metadata": {
    "collapsed": false,
    "jupyter": {
     "outputs_hidden": false
    },
    "pycharm": {
     "name": "#%%\n"
    }
   },
   "outputs": [
    {
     "data": {
      "text/html": [
       "<div>\n",
       "<style scoped>\n",
       "    .dataframe tbody tr th:only-of-type {\n",
       "        vertical-align: middle;\n",
       "    }\n",
       "\n",
       "    .dataframe tbody tr th {\n",
       "        vertical-align: top;\n",
       "    }\n",
       "\n",
       "    .dataframe thead th {\n",
       "        text-align: right;\n",
       "    }\n",
       "</style>\n",
       "<table border=\"1\" class=\"dataframe\">\n",
       "  <thead>\n",
       "    <tr style=\"text-align: right;\">\n",
       "      <th></th>\n",
       "      <th>height</th>\n",
       "      <th>mass</th>\n",
       "      <th>birth_year</th>\n",
       "    </tr>\n",
       "  </thead>\n",
       "  <tbody>\n",
       "    <tr>\n",
       "      <th>count</th>\n",
       "      <td>87.000000</td>\n",
       "      <td>82.000000</td>\n",
       "      <td>45.000000</td>\n",
       "    </tr>\n",
       "    <tr>\n",
       "      <th>mean</th>\n",
       "      <td>162.333333</td>\n",
       "      <td>70.017073</td>\n",
       "      <td>83.673333</td>\n",
       "    </tr>\n",
       "    <tr>\n",
       "      <th>std</th>\n",
       "      <td>55.671726</td>\n",
       "      <td>149.988586</td>\n",
       "      <td>152.232647</td>\n",
       "    </tr>\n",
       "    <tr>\n",
       "      <th>min</th>\n",
       "      <td>0.000000</td>\n",
       "      <td>0.000000</td>\n",
       "      <td>0.000000</td>\n",
       "    </tr>\n",
       "    <tr>\n",
       "      <th>25%</th>\n",
       "      <td>164.000000</td>\n",
       "      <td>0.000000</td>\n",
       "      <td>31.500000</td>\n",
       "    </tr>\n",
       "    <tr>\n",
       "      <th>50%</th>\n",
       "      <td>178.000000</td>\n",
       "      <td>65.500000</td>\n",
       "      <td>48.000000</td>\n",
       "    </tr>\n",
       "    <tr>\n",
       "      <th>75%</th>\n",
       "      <td>190.500000</td>\n",
       "      <td>81.500000</td>\n",
       "      <td>72.000000</td>\n",
       "    </tr>\n",
       "    <tr>\n",
       "      <th>max</th>\n",
       "      <td>264.000000</td>\n",
       "      <td>1358.000000</td>\n",
       "      <td>896.000000</td>\n",
       "    </tr>\n",
       "  </tbody>\n",
       "</table>\n",
       "</div>"
      ],
      "text/plain": [
       "           height         mass  birth_year\n",
       "count   87.000000    82.000000   45.000000\n",
       "mean   162.333333    70.017073   83.673333\n",
       "std     55.671726   149.988586  152.232647\n",
       "min      0.000000     0.000000    0.000000\n",
       "25%    164.000000     0.000000   31.500000\n",
       "50%    178.000000    65.500000   48.000000\n",
       "75%    190.500000    81.500000   72.000000\n",
       "max    264.000000  1358.000000  896.000000"
      ]
     },
     "execution_count": 16,
     "metadata": {},
     "output_type": "execute_result"
    }
   ],
   "source": [
    "sw_df.describe() # Default is just numerics"
   ]
  },
  {
   "cell_type": "code",
   "execution_count": 17,
   "metadata": {
    "collapsed": false,
    "jupyter": {
     "outputs_hidden": false
    },
    "pycharm": {
     "name": "#%%\n"
    }
   },
   "outputs": [
    {
     "data": {
      "text/plain": [
       "name          0.000000\n",
       "height        0.000000\n",
       "mass          0.057471\n",
       "hair_color    0.057471\n",
       "skin_color    0.000000\n",
       "eye_color     0.000000\n",
       "birth_year    0.482759\n",
       "gender        0.034483\n",
       "homeworld     0.114943\n",
       "species       0.057471\n",
       "films         0.000000\n",
       "vehicles      0.873563\n",
       "starship      0.770115\n",
       "dtype: float64"
      ]
     },
     "execution_count": 17,
     "metadata": {},
     "output_type": "execute_result"
    }
   ],
   "source": [
    "sw_df.isna().mean()"
   ]
  },
  {
   "cell_type": "markdown",
   "metadata": {
    "pycharm": {
     "name": "#%% md\n"
    }
   },
   "source": [
    "Okay, that last one needs some explaining. `is.na` will transform every value in the dataframe to a true or a false, `mean` will take the average of every column, in the case of booleans (0/1), the average is equal to the proportion that are True.\n",
    "\n",
    "From this we can see that some columns (such as birth year) are actually quite sparse while others (such as film) are always populated."
   ]
  },
  {
   "cell_type": "markdown",
   "metadata": {
    "pycharm": {
     "name": "#%% md\n"
    }
   },
   "source": [
    "\n",
    "## You ever noticed the lack of diversity in Star Wars?"
   ]
  },
  {
   "cell_type": "code",
   "execution_count": 18,
   "metadata": {
    "collapsed": false,
    "jupyter": {
     "outputs_hidden": false
    },
    "pycharm": {
     "name": "#%%\n"
    }
   },
   "outputs": [
    {
     "data": {
      "text/plain": [
       "array(['Human', 'Droid', 'Wookiee', 'Rodian', 'Hutt', \"Yoda's species\",\n",
       "       'Trandoshan', 'Mon Calamari', 'Ewok', 'Sullustan', 'Neimodian',\n",
       "       'Gungan', nan, 'Toydarian', 'Dug', 'Zabrak', \"Twi'lek\",\n",
       "       'Vulptereen', 'Xexto', 'Toong', 'Cerean', 'Nautolan', 'Tholothian',\n",
       "       'Iktotchi', 'Quermian', 'Kel Dor', 'Chagrian', 'Geonosian',\n",
       "       'Mirialan', 'Clawdite', 'Besalisk', 'Kaminoan', 'Aleena',\n",
       "       'Skakoan', 'Muun', 'Togruta', 'Kaleesh', \"Pau'an\"], dtype=object)"
      ]
     },
     "execution_count": 18,
     "metadata": {},
     "output_type": "execute_result"
    }
   ],
   "source": [
    "sw_df.species.unique()"
   ]
  },
  {
   "cell_type": "code",
   "execution_count": 19,
   "metadata": {
    "collapsed": false,
    "jupyter": {
     "outputs_hidden": false
    },
    "pycharm": {
     "name": "#%%\n"
    }
   },
   "outputs": [
    {
     "data": {
      "text/plain": [
       "Human             35\n",
       "Droid              5\n",
       "Gungan             3\n",
       "Mirialan           2\n",
       "Wookiee            2\n",
       "Twi'lek            2\n",
       "Kaminoan           2\n",
       "Zabrak             2\n",
       "Quermian           1\n",
       "Kel Dor            1\n",
       "Chagrian           1\n",
       "Geonosian          1\n",
       "Clawdite           1\n",
       "Tholothian         1\n",
       "Besalisk           1\n",
       "Aleena             1\n",
       "Skakoan            1\n",
       "Muun               1\n",
       "Togruta            1\n",
       "Kaleesh            1\n",
       "Iktotchi           1\n",
       "Toong              1\n",
       "Nautolan           1\n",
       "Cerean             1\n",
       "Xexto              1\n",
       "Vulptereen         1\n",
       "Dug                1\n",
       "Toydarian          1\n",
       "Neimodian          1\n",
       "Sullustan          1\n",
       "Ewok               1\n",
       "Mon Calamari       1\n",
       "Trandoshan         1\n",
       "Yoda's species     1\n",
       "Hutt               1\n",
       "Rodian             1\n",
       "Pau'an             1\n",
       "Name: species, dtype: int64"
      ]
     },
     "execution_count": 19,
     "metadata": {},
     "output_type": "execute_result"
    }
   ],
   "source": [
    "sw_df.species.value_counts()"
   ]
  },
  {
   "cell_type": "markdown",
   "metadata": {
    "pycharm": {
     "name": "#%% md\n"
    }
   },
   "source": [
    "Our data here contain 38 individual species but 35 of them are human!\n",
    "\n",
    "Also remember that there's some NaN values in the species data. We can have a look at them in isolation with `loc`."
   ]
  },
  {
   "cell_type": "code",
   "execution_count": 20,
   "metadata": {
    "collapsed": false,
    "jupyter": {
     "outputs_hidden": false
    },
    "pycharm": {
     "name": "#%%\n"
    }
   },
   "outputs": [
    {
     "data": {
      "text/html": [
       "<div>\n",
       "<style scoped>\n",
       "    .dataframe tbody tr th:only-of-type {\n",
       "        vertical-align: middle;\n",
       "    }\n",
       "\n",
       "    .dataframe tbody tr th {\n",
       "        vertical-align: top;\n",
       "    }\n",
       "\n",
       "    .dataframe thead th {\n",
       "        text-align: right;\n",
       "    }\n",
       "</style>\n",
       "<table border=\"1\" class=\"dataframe\">\n",
       "  <thead>\n",
       "    <tr style=\"text-align: right;\">\n",
       "      <th></th>\n",
       "      <th>name</th>\n",
       "      <th>height</th>\n",
       "      <th>mass</th>\n",
       "      <th>hair_color</th>\n",
       "      <th>skin_color</th>\n",
       "      <th>eye_color</th>\n",
       "      <th>birth_year</th>\n",
       "      <th>gender</th>\n",
       "      <th>homeworld</th>\n",
       "      <th>species</th>\n",
       "      <th>films</th>\n",
       "      <th>vehicles</th>\n",
       "      <th>starship</th>\n",
       "    </tr>\n",
       "  </thead>\n",
       "  <tbody>\n",
       "    <tr>\n",
       "      <th>36</th>\n",
       "      <td>Ric Olié</td>\n",
       "      <td>183</td>\n",
       "      <td>0.0</td>\n",
       "      <td>brown</td>\n",
       "      <td>fair</td>\n",
       "      <td>blue</td>\n",
       "      <td>NaN</td>\n",
       "      <td>male</td>\n",
       "      <td>Naboo</td>\n",
       "      <td>NaN</td>\n",
       "      <td>The Phantom Menace</td>\n",
       "      <td>NaN</td>\n",
       "      <td>Naboo Royal Starship</td>\n",
       "    </tr>\n",
       "    <tr>\n",
       "      <th>39</th>\n",
       "      <td>Quarsh Panaka</td>\n",
       "      <td>183</td>\n",
       "      <td>NaN</td>\n",
       "      <td>black</td>\n",
       "      <td>dark</td>\n",
       "      <td>brown</td>\n",
       "      <td>62.0</td>\n",
       "      <td>male</td>\n",
       "      <td>Naboo</td>\n",
       "      <td>NaN</td>\n",
       "      <td>The Phantom Menace</td>\n",
       "      <td>NaN</td>\n",
       "      <td>NaN</td>\n",
       "    </tr>\n",
       "    <tr>\n",
       "      <th>72</th>\n",
       "      <td>R4-P17</td>\n",
       "      <td>96</td>\n",
       "      <td>0.0</td>\n",
       "      <td>none</td>\n",
       "      <td>silver, red</td>\n",
       "      <td>red, blue</td>\n",
       "      <td>NaN</td>\n",
       "      <td>female</td>\n",
       "      <td>NaN</td>\n",
       "      <td>NaN</td>\n",
       "      <td>Attack of the Clones, Revenge of the Sith</td>\n",
       "      <td>NaN</td>\n",
       "      <td>NaN</td>\n",
       "    </tr>\n",
       "    <tr>\n",
       "      <th>79</th>\n",
       "      <td>Sly Moore</td>\n",
       "      <td>178</td>\n",
       "      <td>48.0</td>\n",
       "      <td>none</td>\n",
       "      <td>pale</td>\n",
       "      <td>white</td>\n",
       "      <td>NaN</td>\n",
       "      <td>female</td>\n",
       "      <td>Umbara</td>\n",
       "      <td>NaN</td>\n",
       "      <td>Attack of the Clones, Revenge of the Sith</td>\n",
       "      <td>NaN</td>\n",
       "      <td>NaN</td>\n",
       "    </tr>\n",
       "    <tr>\n",
       "      <th>85</th>\n",
       "      <td>Captain Phasma</td>\n",
       "      <td>0</td>\n",
       "      <td>0.0</td>\n",
       "      <td>unknown</td>\n",
       "      <td>unknown</td>\n",
       "      <td>unknown</td>\n",
       "      <td>0.0</td>\n",
       "      <td>female</td>\n",
       "      <td>NaN</td>\n",
       "      <td>NaN</td>\n",
       "      <td>The Force Awakens</td>\n",
       "      <td>NaN</td>\n",
       "      <td>NaN</td>\n",
       "    </tr>\n",
       "  </tbody>\n",
       "</table>\n",
       "</div>"
      ],
      "text/plain": [
       "              name  height  mass hair_color   skin_color  eye_color  \\\n",
       "36        Ric Olié     183   0.0      brown         fair       blue   \n",
       "39   Quarsh Panaka     183   NaN      black         dark      brown   \n",
       "72          R4-P17      96   0.0       none  silver, red  red, blue   \n",
       "79       Sly Moore     178  48.0       none         pale      white   \n",
       "85  Captain Phasma       0   0.0    unknown      unknown    unknown   \n",
       "\n",
       "    birth_year  gender homeworld species  \\\n",
       "36         NaN    male     Naboo     NaN   \n",
       "39        62.0    male     Naboo     NaN   \n",
       "72         NaN  female       NaN     NaN   \n",
       "79         NaN  female    Umbara     NaN   \n",
       "85         0.0  female       NaN     NaN   \n",
       "\n",
       "                                        films vehicles              starship  \n",
       "36                         The Phantom Menace      NaN  Naboo Royal Starship  \n",
       "39                         The Phantom Menace      NaN                   NaN  \n",
       "72  Attack of the Clones, Revenge of the Sith      NaN                   NaN  \n",
       "79  Attack of the Clones, Revenge of the Sith      NaN                   NaN  \n",
       "85                          The Force Awakens      NaN                   NaN  "
      ]
     },
     "execution_count": 20,
     "metadata": {},
     "output_type": "execute_result"
    }
   ],
   "source": [
    "sw_df.loc[pd.isnull(sw_df.species)]"
   ]
  },
  {
   "cell_type": "markdown",
   "metadata": {
    "pycharm": {
     "name": "#%% md\n"
    }
   },
   "source": [
    "Let's unpack that a bit! `loc` is basically a way of filtering the dataframe, here I've passed it a series that is `True` whenever the species value is NaN.\n",
    "\n",
    "We can see that the characters missing species are genreally bit-players which makes sense, it was probably never written in.\n",
    "\n",
    "We can extend `loc` to columns too if we want a simpler table, interestingly we do know a number of these people's home planets, even if we don't know their species!"
   ]
  },
  {
   "cell_type": "code",
   "execution_count": 21,
   "metadata": {
    "collapsed": false,
    "jupyter": {
     "outputs_hidden": false
    },
    "pycharm": {
     "name": "#%%\n"
    }
   },
   "outputs": [
    {
     "data": {
      "text/html": [
       "<div>\n",
       "<style scoped>\n",
       "    .dataframe tbody tr th:only-of-type {\n",
       "        vertical-align: middle;\n",
       "    }\n",
       "\n",
       "    .dataframe tbody tr th {\n",
       "        vertical-align: top;\n",
       "    }\n",
       "\n",
       "    .dataframe thead th {\n",
       "        text-align: right;\n",
       "    }\n",
       "</style>\n",
       "<table border=\"1\" class=\"dataframe\">\n",
       "  <thead>\n",
       "    <tr style=\"text-align: right;\">\n",
       "      <th></th>\n",
       "      <th>name</th>\n",
       "      <th>homeworld</th>\n",
       "    </tr>\n",
       "  </thead>\n",
       "  <tbody>\n",
       "    <tr>\n",
       "      <th>36</th>\n",
       "      <td>Ric Olié</td>\n",
       "      <td>Naboo</td>\n",
       "    </tr>\n",
       "    <tr>\n",
       "      <th>39</th>\n",
       "      <td>Quarsh Panaka</td>\n",
       "      <td>Naboo</td>\n",
       "    </tr>\n",
       "    <tr>\n",
       "      <th>72</th>\n",
       "      <td>R4-P17</td>\n",
       "      <td>NaN</td>\n",
       "    </tr>\n",
       "    <tr>\n",
       "      <th>79</th>\n",
       "      <td>Sly Moore</td>\n",
       "      <td>Umbara</td>\n",
       "    </tr>\n",
       "    <tr>\n",
       "      <th>85</th>\n",
       "      <td>Captain Phasma</td>\n",
       "      <td>NaN</td>\n",
       "    </tr>\n",
       "  </tbody>\n",
       "</table>\n",
       "</div>"
      ],
      "text/plain": [
       "              name homeworld\n",
       "36        Ric Olié     Naboo\n",
       "39   Quarsh Panaka     Naboo\n",
       "72          R4-P17       NaN\n",
       "79       Sly Moore    Umbara\n",
       "85  Captain Phasma       NaN"
      ]
     },
     "execution_count": 21,
     "metadata": {},
     "output_type": "execute_result"
    }
   ],
   "source": [
    "sw_df.loc[pd.isnull(sw_df.species), [\"name\", \"homeworld\"]]"
   ]
  },
  {
   "cell_type": "markdown",
   "metadata": {
    "pycharm": {
     "name": "#%% md\n"
    }
   },
   "source": [
    "This last one is a little contrived. I want to see all the species that have Naboo as their homeworld, maybe I can learn somethign about our NaN people. To do this I keep all rows but only the two columns we are interested in, deduplicate to get only unique pairs and then sort by values so I can find naboo easily.\n",
    "\n",
    "Yes there are easier ways, I'm demoing here!"
   ]
  },
  {
   "cell_type": "code",
   "execution_count": 22,
   "metadata": {
    "collapsed": false,
    "jupyter": {
     "outputs_hidden": false
    },
    "pycharm": {
     "name": "#%%\n"
    }
   },
   "outputs": [
    {
     "data": {
      "text/html": [
       "<div>\n",
       "<style scoped>\n",
       "    .dataframe tbody tr th:only-of-type {\n",
       "        vertical-align: middle;\n",
       "    }\n",
       "\n",
       "    .dataframe tbody tr th {\n",
       "        vertical-align: top;\n",
       "    }\n",
       "\n",
       "    .dataframe thead th {\n",
       "        text-align: right;\n",
       "    }\n",
       "</style>\n",
       "<table border=\"1\" class=\"dataframe\">\n",
       "  <thead>\n",
       "    <tr style=\"text-align: right;\">\n",
       "      <th></th>\n",
       "      <th>species</th>\n",
       "      <th>homeworld</th>\n",
       "    </tr>\n",
       "  </thead>\n",
       "  <tbody>\n",
       "    <tr>\n",
       "      <th>4</th>\n",
       "      <td>Human</td>\n",
       "      <td>Alderaan</td>\n",
       "    </tr>\n",
       "    <tr>\n",
       "      <th>71</th>\n",
       "      <td>Aleena</td>\n",
       "      <td>Aleen Minor</td>\n",
       "    </tr>\n",
       "    <tr>\n",
       "      <th>24</th>\n",
       "      <td>Human</td>\n",
       "      <td>Bespin</td>\n",
       "    </tr>\n",
       "    <tr>\n",
       "      <th>17</th>\n",
       "      <td>Human</td>\n",
       "      <td>Bestine IV</td>\n",
       "    </tr>\n",
       "    <tr>\n",
       "      <th>31</th>\n",
       "      <td>Neimodian</td>\n",
       "      <td>Cato Neimoidia</td>\n",
       "    </tr>\n",
       "    <tr>\n",
       "      <th>48</th>\n",
       "      <td>Cerean</td>\n",
       "      <td>Cerea</td>\n",
       "    </tr>\n",
       "    <tr>\n",
       "      <th>55</th>\n",
       "      <td>Chagrian</td>\n",
       "      <td>Champala</td>\n",
       "    </tr>\n",
       "    <tr>\n",
       "      <th>26</th>\n",
       "      <td>Human</td>\n",
       "      <td>Chandrila</td>\n",
       "    </tr>\n",
       "    <tr>\n",
       "      <th>65</th>\n",
       "      <td>Human</td>\n",
       "      <td>Concord Dawn</td>\n",
       "    </tr>\n",
       "    <tr>\n",
       "      <th>13</th>\n",
       "      <td>Human</td>\n",
       "      <td>Corellia</td>\n",
       "    </tr>\n",
       "    <tr>\n",
       "      <th>51</th>\n",
       "      <td>Tholothian</td>\n",
       "      <td>Coruscant</td>\n",
       "    </tr>\n",
       "    <tr>\n",
       "      <th>32</th>\n",
       "      <td>Human</td>\n",
       "      <td>Coruscant</td>\n",
       "    </tr>\n",
       "    <tr>\n",
       "      <th>41</th>\n",
       "      <td>Zabrak</td>\n",
       "      <td>Dathomir</td>\n",
       "    </tr>\n",
       "    <tr>\n",
       "      <th>54</th>\n",
       "      <td>Kel Dor</td>\n",
       "      <td>Dorin</td>\n",
       "    </tr>\n",
       "    <tr>\n",
       "      <th>28</th>\n",
       "      <td>Ewok</td>\n",
       "      <td>Endor</td>\n",
       "    </tr>\n",
       "    <tr>\n",
       "      <th>11</th>\n",
       "      <td>Human</td>\n",
       "      <td>Eriadu</td>\n",
       "    </tr>\n",
       "    <tr>\n",
       "      <th>59</th>\n",
       "      <td>Geonosian</td>\n",
       "      <td>Geonosis</td>\n",
       "    </tr>\n",
       "    <tr>\n",
       "      <th>49</th>\n",
       "      <td>Nautolan</td>\n",
       "      <td>Glee Anselm</td>\n",
       "    </tr>\n",
       "    <tr>\n",
       "      <th>47</th>\n",
       "      <td>Human</td>\n",
       "      <td>Haruun Kal</td>\n",
       "    </tr>\n",
       "    <tr>\n",
       "      <th>52</th>\n",
       "      <td>Iktotchi</td>\n",
       "      <td>Iktotch</td>\n",
       "    </tr>\n",
       "    <tr>\n",
       "      <th>50</th>\n",
       "      <td>Zabrak</td>\n",
       "      <td>Iridonia</td>\n",
       "    </tr>\n",
       "    <tr>\n",
       "      <th>76</th>\n",
       "      <td>Kaleesh</td>\n",
       "      <td>Kalee</td>\n",
       "    </tr>\n",
       "    <tr>\n",
       "      <th>68</th>\n",
       "      <td>Kaminoan</td>\n",
       "      <td>Kamino</td>\n",
       "    </tr>\n",
       "    <tr>\n",
       "      <th>20</th>\n",
       "      <td>Human</td>\n",
       "      <td>Kamino</td>\n",
       "    </tr>\n",
       "    <tr>\n",
       "      <th>12</th>\n",
       "      <td>Wookiee</td>\n",
       "      <td>Kashyyyk</td>\n",
       "    </tr>\n",
       "    <tr>\n",
       "      <th>38</th>\n",
       "      <td>Dug</td>\n",
       "      <td>Malastare</td>\n",
       "    </tr>\n",
       "    <tr>\n",
       "      <th>60</th>\n",
       "      <td>Mirialan</td>\n",
       "      <td>Mirial</td>\n",
       "    </tr>\n",
       "    <tr>\n",
       "      <th>25</th>\n",
       "      <td>Mon Calamari</td>\n",
       "      <td>Mon Cala</td>\n",
       "    </tr>\n",
       "    <tr>\n",
       "      <th>74</th>\n",
       "      <td>Muun</td>\n",
       "      <td>Muunilinst</td>\n",
       "    </tr>\n",
       "    <tr>\n",
       "      <th>19</th>\n",
       "      <td>Human</td>\n",
       "      <td>Naboo</td>\n",
       "    </tr>\n",
       "    <tr>\n",
       "      <th>33</th>\n",
       "      <td>Gungan</td>\n",
       "      <td>Naboo</td>\n",
       "    </tr>\n",
       "    <tr>\n",
       "      <th>36</th>\n",
       "      <td>NaN</td>\n",
       "      <td>Naboo</td>\n",
       "    </tr>\n",
       "    <tr>\n",
       "      <th>2</th>\n",
       "      <td>Droid</td>\n",
       "      <td>Naboo</td>\n",
       "    </tr>\n",
       "    <tr>\n",
       "      <th>15</th>\n",
       "      <td>Hutt</td>\n",
       "      <td>Nal Hutta</td>\n",
       "    </tr>\n",
       "    <tr>\n",
       "      <th>67</th>\n",
       "      <td>Besalisk</td>\n",
       "      <td>Ojom</td>\n",
       "    </tr>\n",
       "    <tr>\n",
       "      <th>53</th>\n",
       "      <td>Quermian</td>\n",
       "      <td>Quermia</td>\n",
       "    </tr>\n",
       "    <tr>\n",
       "      <th>14</th>\n",
       "      <td>Rodian</td>\n",
       "      <td>Rodia</td>\n",
       "    </tr>\n",
       "    <tr>\n",
       "      <th>42</th>\n",
       "      <td>Twi'lek</td>\n",
       "      <td>Ryloth</td>\n",
       "    </tr>\n",
       "    <tr>\n",
       "      <th>63</th>\n",
       "      <td>Human</td>\n",
       "      <td>Serenno</td>\n",
       "    </tr>\n",
       "    <tr>\n",
       "      <th>75</th>\n",
       "      <td>Togruta</td>\n",
       "      <td>Shili</td>\n",
       "    </tr>\n",
       "    <tr>\n",
       "      <th>73</th>\n",
       "      <td>Skakoan</td>\n",
       "      <td>Skako</td>\n",
       "    </tr>\n",
       "    <tr>\n",
       "      <th>23</th>\n",
       "      <td>Human</td>\n",
       "      <td>Socorro</td>\n",
       "    </tr>\n",
       "    <tr>\n",
       "      <th>9</th>\n",
       "      <td>Human</td>\n",
       "      <td>Stewjon</td>\n",
       "    </tr>\n",
       "    <tr>\n",
       "      <th>29</th>\n",
       "      <td>Sullustan</td>\n",
       "      <td>Sullust</td>\n",
       "    </tr>\n",
       "    <tr>\n",
       "      <th>0</th>\n",
       "      <td>Human</td>\n",
       "      <td>Tatooine</td>\n",
       "    </tr>\n",
       "    <tr>\n",
       "      <th>1</th>\n",
       "      <td>Droid</td>\n",
       "      <td>Tatooine</td>\n",
       "    </tr>\n",
       "    <tr>\n",
       "      <th>37</th>\n",
       "      <td>Toydarian</td>\n",
       "      <td>Toydaria</td>\n",
       "    </tr>\n",
       "    <tr>\n",
       "      <th>22</th>\n",
       "      <td>Trandoshan</td>\n",
       "      <td>Trandosha</td>\n",
       "    </tr>\n",
       "    <tr>\n",
       "      <th>45</th>\n",
       "      <td>Xexto</td>\n",
       "      <td>Troiken</td>\n",
       "    </tr>\n",
       "    <tr>\n",
       "      <th>46</th>\n",
       "      <td>Toong</td>\n",
       "      <td>Tund</td>\n",
       "    </tr>\n",
       "    <tr>\n",
       "      <th>79</th>\n",
       "      <td>NaN</td>\n",
       "      <td>Umbara</td>\n",
       "    </tr>\n",
       "    <tr>\n",
       "      <th>80</th>\n",
       "      <td>Pau'an</td>\n",
       "      <td>Utapau</td>\n",
       "    </tr>\n",
       "    <tr>\n",
       "      <th>44</th>\n",
       "      <td>Vulptereen</td>\n",
       "      <td>Vulpter</td>\n",
       "    </tr>\n",
       "    <tr>\n",
       "      <th>66</th>\n",
       "      <td>Clawdite</td>\n",
       "      <td>Zolan</td>\n",
       "    </tr>\n",
       "    <tr>\n",
       "      <th>18</th>\n",
       "      <td>Yoda's species</td>\n",
       "      <td>NaN</td>\n",
       "    </tr>\n",
       "    <tr>\n",
       "      <th>21</th>\n",
       "      <td>Droid</td>\n",
       "      <td>NaN</td>\n",
       "    </tr>\n",
       "    <tr>\n",
       "      <th>27</th>\n",
       "      <td>Human</td>\n",
       "      <td>NaN</td>\n",
       "    </tr>\n",
       "    <tr>\n",
       "      <th>72</th>\n",
       "      <td>NaN</td>\n",
       "      <td>NaN</td>\n",
       "    </tr>\n",
       "  </tbody>\n",
       "</table>\n",
       "</div>"
      ],
      "text/plain": [
       "           species       homeworld\n",
       "4            Human        Alderaan\n",
       "71          Aleena     Aleen Minor\n",
       "24           Human          Bespin\n",
       "17           Human      Bestine IV\n",
       "31       Neimodian  Cato Neimoidia\n",
       "48          Cerean           Cerea\n",
       "55        Chagrian        Champala\n",
       "26           Human       Chandrila\n",
       "65           Human    Concord Dawn\n",
       "13           Human        Corellia\n",
       "51      Tholothian       Coruscant\n",
       "32           Human       Coruscant\n",
       "41          Zabrak        Dathomir\n",
       "54         Kel Dor           Dorin\n",
       "28            Ewok           Endor\n",
       "11           Human          Eriadu\n",
       "59       Geonosian        Geonosis\n",
       "49        Nautolan     Glee Anselm\n",
       "47           Human      Haruun Kal\n",
       "52        Iktotchi         Iktotch\n",
       "50          Zabrak        Iridonia\n",
       "76         Kaleesh           Kalee\n",
       "68        Kaminoan          Kamino\n",
       "20           Human          Kamino\n",
       "12         Wookiee        Kashyyyk\n",
       "38             Dug       Malastare\n",
       "60        Mirialan          Mirial\n",
       "25    Mon Calamari        Mon Cala\n",
       "74            Muun      Muunilinst\n",
       "19           Human           Naboo\n",
       "33          Gungan           Naboo\n",
       "36             NaN           Naboo\n",
       "2            Droid           Naboo\n",
       "15            Hutt       Nal Hutta\n",
       "67        Besalisk            Ojom\n",
       "53        Quermian         Quermia\n",
       "14          Rodian           Rodia\n",
       "42         Twi'lek          Ryloth\n",
       "63           Human         Serenno\n",
       "75         Togruta           Shili\n",
       "73         Skakoan           Skako\n",
       "23           Human         Socorro\n",
       "9            Human         Stewjon\n",
       "29       Sullustan         Sullust\n",
       "0            Human        Tatooine\n",
       "1            Droid        Tatooine\n",
       "37       Toydarian        Toydaria\n",
       "22      Trandoshan       Trandosha\n",
       "45           Xexto         Troiken\n",
       "46           Toong            Tund\n",
       "79             NaN          Umbara\n",
       "80          Pau'an          Utapau\n",
       "44      Vulptereen         Vulpter\n",
       "66        Clawdite           Zolan\n",
       "18  Yoda's species             NaN\n",
       "21           Droid             NaN\n",
       "27           Human             NaN\n",
       "72             NaN             NaN"
      ]
     },
     "execution_count": 22,
     "metadata": {},
     "output_type": "execute_result"
    }
   ],
   "source": [
    "sw_df.loc[:,[\"species\", \"homeworld\"]]\\\n",
    "    .drop_duplicates()\\\n",
    "    .sort_values(\"homeworld\")"
   ]
  },
  {
   "cell_type": "markdown",
   "metadata": {
    "pycharm": {
     "name": "#%% md\n"
    }
   },
   "source": [
    "# Data Manipulation: What's Jabba's BMI?\n",
    "Why not!?\n",
    "\n",
    "## Are the data up to the task?!\n",
    "Well, it looks like we've got some outliers in mass and both series have a number of 0s in them. As someone can't have zero mass I'm going to assume that's an error!"
   ]
  },
  {
   "cell_type": "code",
   "execution_count": 25,
   "metadata": {
    "collapsed": false,
    "jupyter": {
     "outputs_hidden": false
    },
    "pycharm": {
     "name": "#%%\n"
    }
   },
   "outputs": [
    {
     "data": {
      "text/plain": [
       "<AxesSubplot:>"
      ]
     },
     "execution_count": 25,
     "metadata": {},
     "output_type": "execute_result"
    },
    {
     "data": {
      "image/png": "[encoded data removed]",
      "text/plain": [
       "<Figure size 432x288 with 1 Axes>"
      ]
     },
     "metadata": {
      "needs_background": "light"
     },
     "output_type": "display_data"
    }
   ],
   "source": [
    "sw_df.mass.hist()"
   ]
  },
  {
   "cell_type": "code",
   "execution_count": 85,
   "metadata": {
    "collapsed": false,
    "jupyter": {
     "outputs_hidden": false
    },
    "pycharm": {
     "name": "#%%\n"
    }
   },
   "outputs": [
    {
     "data": {
      "text/plain": [
       "<AxesSubplot:>"
      ]
     },
     "execution_count": 85,
     "metadata": {},
     "output_type": "execute_result"
    },
    {
     "data": {
      "image/png": "[encoded data removed]",
      "text/plain": [
       "<Figure size 432x288 with 1 Axes>"
      ]
     },
     "metadata": {
      "needs_background": "light"
     },
     "output_type": "display_data"
    }
   ],
   "source": [
    "bmi_calc_df.height.hist()"
   ]
  },
  {
   "cell_type": "code",
   "execution_count": 23,
   "metadata": {
    "collapsed": false,
    "jupyter": {
     "outputs_hidden": false
    },
    "pycharm": {
     "name": "#%%\n"
    }
   },
   "outputs": [
    {
     "data": {
      "text/html": [
       "<div>\n",
       "<style scoped>\n",
       "    .dataframe tbody tr th:only-of-type {\n",
       "        vertical-align: middle;\n",
       "    }\n",
       "\n",
       "    .dataframe tbody tr th {\n",
       "        vertical-align: top;\n",
       "    }\n",
       "\n",
       "    .dataframe thead th {\n",
       "        text-align: right;\n",
       "    }\n",
       "</style>\n",
       "<table border=\"1\" class=\"dataframe\">\n",
       "  <thead>\n",
       "    <tr style=\"text-align: right;\">\n",
       "      <th></th>\n",
       "      <th>height</th>\n",
       "      <th>mass</th>\n",
       "      <th>birth_year</th>\n",
       "    </tr>\n",
       "  </thead>\n",
       "  <tbody>\n",
       "    <tr>\n",
       "      <th>count</th>\n",
       "      <td>87.000000</td>\n",
       "      <td>82.000000</td>\n",
       "      <td>45.000000</td>\n",
       "    </tr>\n",
       "    <tr>\n",
       "      <th>mean</th>\n",
       "      <td>162.333333</td>\n",
       "      <td>70.017073</td>\n",
       "      <td>83.673333</td>\n",
       "    </tr>\n",
       "    <tr>\n",
       "      <th>std</th>\n",
       "      <td>55.671726</td>\n",
       "      <td>149.988586</td>\n",
       "      <td>152.232647</td>\n",
       "    </tr>\n",
       "    <tr>\n",
       "      <th>min</th>\n",
       "      <td>0.000000</td>\n",
       "      <td>0.000000</td>\n",
       "      <td>0.000000</td>\n",
       "    </tr>\n",
       "    <tr>\n",
       "      <th>25%</th>\n",
       "      <td>164.000000</td>\n",
       "      <td>0.000000</td>\n",
       "      <td>31.500000</td>\n",
       "    </tr>\n",
       "    <tr>\n",
       "      <th>50%</th>\n",
       "      <td>178.000000</td>\n",
       "      <td>65.500000</td>\n",
       "      <td>48.000000</td>\n",
       "    </tr>\n",
       "    <tr>\n",
       "      <th>75%</th>\n",
       "      <td>190.500000</td>\n",
       "      <td>81.500000</td>\n",
       "      <td>72.000000</td>\n",
       "    </tr>\n",
       "    <tr>\n",
       "      <th>max</th>\n",
       "      <td>264.000000</td>\n",
       "      <td>1358.000000</td>\n",
       "      <td>896.000000</td>\n",
       "    </tr>\n",
       "  </tbody>\n",
       "</table>\n",
       "</div>"
      ],
      "text/plain": [
       "           height         mass  birth_year\n",
       "count   87.000000    82.000000   45.000000\n",
       "mean   162.333333    70.017073   83.673333\n",
       "std     55.671726   149.988586  152.232647\n",
       "min      0.000000     0.000000    0.000000\n",
       "25%    164.000000     0.000000   31.500000\n",
       "50%    178.000000    65.500000   48.000000\n",
       "75%    190.500000    81.500000   72.000000\n",
       "max    264.000000  1358.000000  896.000000"
      ]
     },
     "execution_count": 23,
     "metadata": {},
     "output_type": "execute_result"
    }
   ],
   "source": [
    "sw_df.describe() "
   ]
  },
  {
   "cell_type": "markdown",
   "metadata": {},
   "source": [
    "## How to fix these so we can do our calculation?\n",
    "We need multiple filter conditions. Note how I've wrapped each in parenthesis. This is vital to make sure they are evaluated properly!!"
   ]
  },
  {
   "cell_type": "code",
   "execution_count": 48,
   "metadata": {},
   "outputs": [
    {
     "data": {
      "text/plain": [
       "(59, 13)"
      ]
     },
     "execution_count": 48,
     "metadata": {},
     "output_type": "execute_result"
    }
   ],
   "source": [
    "bmi_calc_df = sw_df.loc[(~pd.isnull(sw_df.mass)) & (sw_df.mass != 0) & (sw_df.height != 0), :]\n",
    "bmi_calc_df.shape  # 28 values gone."
   ]
  },
  {
   "cell_type": "markdown",
   "metadata": {},
   "source": [
    "## Calculating BMI\n",
    "The equation is kg / m^2 so we first need to make height meters. I'm not using dot notation for the columns here, that's because neither of them already exist so I can't access them as attributes!"
   ]
  },
  {
   "cell_type": "code",
   "execution_count": 49,
   "metadata": {},
   "outputs": [
    {
     "name": "stderr",
     "output_type": "stream",
     "text": [
      "C:\\Users\\ROBERT~1.MAN\\AppData\\Local\\Temp/ipykernel_12868/417144327.py:1: SettingWithCopyWarning: \n",
      "A value is trying to be set on a copy of a slice from a DataFrame.\n",
      "Try using .loc[row_indexer,col_indexer] = value instead\n",
      "\n",
      "See the caveats in the documentation: https://pandas.pydata.org/pandas-docs/stable/user_guide/indexing.html#returning-a-view-versus-a-copy\n",
      "  bmi_calc_df[\"height_m\"] = bmi_calc_df.height / 100\n",
      "C:\\Users\\ROBERT~1.MAN\\AppData\\Local\\Temp/ipykernel_12868/417144327.py:2: SettingWithCopyWarning: \n",
      "A value is trying to be set on a copy of a slice from a DataFrame.\n",
      "Try using .loc[row_indexer,col_indexer] = value instead\n",
      "\n",
      "See the caveats in the documentation: https://pandas.pydata.org/pandas-docs/stable/user_guide/indexing.html#returning-a-view-versus-a-copy\n",
      "  bmi_calc_df[\"bmi\"] = bmi_calc_df.mass / (bmi_calc_df.height_m**2)\n"
     ]
    }
   ],
   "source": [
    "bmi_calc_df[\"height_m\"] = bmi_calc_df.height / 100\n",
    "bmi_calc_df[\"bmi\"] = bmi_calc_df.mass / (bmi_calc_df.height_m**2)"
   ]
  },
  {
   "cell_type": "markdown",
   "metadata": {},
   "source": [
    "What's happened here?! Well, a variable in python is a memory reference, not a unique object so Pandas is very cautious when doing operations on things that you've filtered from other datasets. In this case it's probably being a bit over-cautious but let's do the good practice thing anyway and add `copy()`"
   ]
  },
  {
   "cell_type": "code",
   "execution_count": 53,
   "metadata": {},
   "outputs": [
    {
     "data": {
      "text/html": [
       "<div>\n",
       "<style scoped>\n",
       "    .dataframe tbody tr th:only-of-type {\n",
       "        vertical-align: middle;\n",
       "    }\n",
       "\n",
       "    .dataframe tbody tr th {\n",
       "        vertical-align: top;\n",
       "    }\n",
       "\n",
       "    .dataframe thead th {\n",
       "        text-align: right;\n",
       "    }\n",
       "</style>\n",
       "<table border=\"1\" class=\"dataframe\">\n",
       "  <thead>\n",
       "    <tr style=\"text-align: right;\">\n",
       "      <th></th>\n",
       "      <th>name</th>\n",
       "      <th>height</th>\n",
       "      <th>mass</th>\n",
       "      <th>hair_color</th>\n",
       "      <th>skin_color</th>\n",
       "      <th>eye_color</th>\n",
       "      <th>birth_year</th>\n",
       "      <th>gender</th>\n",
       "      <th>homeworld</th>\n",
       "      <th>species</th>\n",
       "      <th>films</th>\n",
       "      <th>vehicles</th>\n",
       "      <th>starship</th>\n",
       "      <th>height_m</th>\n",
       "      <th>bmi</th>\n",
       "    </tr>\n",
       "  </thead>\n",
       "  <tbody>\n",
       "    <tr>\n",
       "      <th>0</th>\n",
       "      <td>Luke Skywalker</td>\n",
       "      <td>172</td>\n",
       "      <td>77.0</td>\n",
       "      <td>blond</td>\n",
       "      <td>fair</td>\n",
       "      <td>blue</td>\n",
       "      <td>19.0</td>\n",
       "      <td>male</td>\n",
       "      <td>Tatooine</td>\n",
       "      <td>Human</td>\n",
       "      <td>Revenge of the Sith, Return of the Jedi, The E...</td>\n",
       "      <td>Snowspeeder, Imperial Speeder Bike</td>\n",
       "      <td>X-wing, Imperial shuttle</td>\n",
       "      <td>1.72</td>\n",
       "      <td>26.027582</td>\n",
       "    </tr>\n",
       "    <tr>\n",
       "      <th>1</th>\n",
       "      <td>C-3PO</td>\n",
       "      <td>167</td>\n",
       "      <td>75.0</td>\n",
       "      <td>NaN</td>\n",
       "      <td>gold</td>\n",
       "      <td>yellow</td>\n",
       "      <td>112.0</td>\n",
       "      <td>NaN</td>\n",
       "      <td>Tatooine</td>\n",
       "      <td>Droid</td>\n",
       "      <td>Attack of the Clones, The Phantom Menace, Reve...</td>\n",
       "      <td>NaN</td>\n",
       "      <td>NaN</td>\n",
       "      <td>1.67</td>\n",
       "      <td>26.892323</td>\n",
       "    </tr>\n",
       "    <tr>\n",
       "      <th>2</th>\n",
       "      <td>R2-D2</td>\n",
       "      <td>96</td>\n",
       "      <td>32.0</td>\n",
       "      <td>NaN</td>\n",
       "      <td>white, blue</td>\n",
       "      <td>red</td>\n",
       "      <td>33.0</td>\n",
       "      <td>NaN</td>\n",
       "      <td>Naboo</td>\n",
       "      <td>Droid</td>\n",
       "      <td>Attack of the Clones, The Phantom Menace, Reve...</td>\n",
       "      <td>NaN</td>\n",
       "      <td>NaN</td>\n",
       "      <td>0.96</td>\n",
       "      <td>34.722222</td>\n",
       "    </tr>\n",
       "    <tr>\n",
       "      <th>3</th>\n",
       "      <td>Darth Vader</td>\n",
       "      <td>202</td>\n",
       "      <td>136.0</td>\n",
       "      <td>none</td>\n",
       "      <td>white</td>\n",
       "      <td>yellow</td>\n",
       "      <td>41.9</td>\n",
       "      <td>male</td>\n",
       "      <td>Tatooine</td>\n",
       "      <td>Human</td>\n",
       "      <td>Revenge of the Sith, Return of the Jedi, The E...</td>\n",
       "      <td>NaN</td>\n",
       "      <td>TIE Advanced x1</td>\n",
       "      <td>2.02</td>\n",
       "      <td>33.330066</td>\n",
       "    </tr>\n",
       "    <tr>\n",
       "      <th>4</th>\n",
       "      <td>Leia Organa</td>\n",
       "      <td>150</td>\n",
       "      <td>49.0</td>\n",
       "      <td>brown</td>\n",
       "      <td>light</td>\n",
       "      <td>brown</td>\n",
       "      <td>19.0</td>\n",
       "      <td>female</td>\n",
       "      <td>Alderaan</td>\n",
       "      <td>Human</td>\n",
       "      <td>Revenge of the Sith, Return of the Jedi, The E...</td>\n",
       "      <td>Imperial Speeder Bike</td>\n",
       "      <td>NaN</td>\n",
       "      <td>1.50</td>\n",
       "      <td>21.777778</td>\n",
       "    </tr>\n",
       "  </tbody>\n",
       "</table>\n",
       "</div>"
      ],
      "text/plain": [
       "             name  height   mass hair_color   skin_color eye_color  \\\n",
       "0  Luke Skywalker     172   77.0      blond         fair      blue   \n",
       "1           C-3PO     167   75.0        NaN         gold    yellow   \n",
       "2           R2-D2      96   32.0        NaN  white, blue       red   \n",
       "3     Darth Vader     202  136.0       none        white    yellow   \n",
       "4     Leia Organa     150   49.0      brown        light     brown   \n",
       "\n",
       "   birth_year  gender homeworld species  \\\n",
       "0        19.0    male  Tatooine   Human   \n",
       "1       112.0     NaN  Tatooine   Droid   \n",
       "2        33.0     NaN     Naboo   Droid   \n",
       "3        41.9    male  Tatooine   Human   \n",
       "4        19.0  female  Alderaan   Human   \n",
       "\n",
       "                                               films  \\\n",
       "0  Revenge of the Sith, Return of the Jedi, The E...   \n",
       "1  Attack of the Clones, The Phantom Menace, Reve...   \n",
       "2  Attack of the Clones, The Phantom Menace, Reve...   \n",
       "3  Revenge of the Sith, Return of the Jedi, The E...   \n",
       "4  Revenge of the Sith, Return of the Jedi, The E...   \n",
       "\n",
       "                             vehicles                  starship  height_m  \\\n",
       "0  Snowspeeder, Imperial Speeder Bike  X-wing, Imperial shuttle      1.72   \n",
       "1                                 NaN                       NaN      1.67   \n",
       "2                                 NaN                       NaN      0.96   \n",
       "3                                 NaN           TIE Advanced x1      2.02   \n",
       "4               Imperial Speeder Bike                       NaN      1.50   \n",
       "\n",
       "         bmi  \n",
       "0  26.027582  \n",
       "1  26.892323  \n",
       "2  34.722222  \n",
       "3  33.330066  \n",
       "4  21.777778  "
      ]
     },
     "execution_count": 53,
     "metadata": {},
     "output_type": "execute_result"
    }
   ],
   "source": [
    "bmi_calc_df = sw_df.loc[(~pd.isnull(sw_df.mass)) & (sw_df.mass != 0) & (sw_df.height != 0), :].copy()  \n",
    "\n",
    "bmi_calc_df[\"height_m\"] = bmi_calc_df.height / 100\n",
    "bmi_calc_df[\"bmi\"] = bmi_calc_df.mass / (bmi_calc_df.height_m**2)\n",
    "bmi_calc_df.head()"
   ]
  },
  {
   "cell_type": "markdown",
   "metadata": {
    "pycharm": {
     "name": "#%% md\n"
    }
   },
   "source": [
    "## How did we do? "
   ]
  },
  {
   "cell_type": "code",
   "execution_count": 56,
   "metadata": {
    "collapsed": false,
    "jupyter": {
     "outputs_hidden": false
    },
    "pycharm": {
     "name": "#%%\n"
    }
   },
   "outputs": [
    {
     "data": {
      "text/plain": [
       "<AxesSubplot:>"
      ]
     },
     "execution_count": 56,
     "metadata": {},
     "output_type": "execute_result"
    },
    {
     "data": {
      "image/png": "[encoded data removed]",
      "text/plain": [
       "<Figure size 432x288 with 1 Axes>"
      ]
     },
     "metadata": {
      "needs_background": "light"
     },
     "output_type": "display_data"
    }
   ],
   "source": [
    "bmi_calc_df.bmi.hist()"
   ]
  },
  {
   "cell_type": "code",
   "execution_count": 66,
   "metadata": {
    "collapsed": false,
    "jupyter": {
     "outputs_hidden": false
    },
    "pycharm": {
     "name": "#%%\n"
    }
   },
   "outputs": [
    {
     "data": {
      "text/html": [
       "<div>\n",
       "<style scoped>\n",
       "    .dataframe tbody tr th:only-of-type {\n",
       "        vertical-align: middle;\n",
       "    }\n",
       "\n",
       "    .dataframe tbody tr th {\n",
       "        vertical-align: top;\n",
       "    }\n",
       "\n",
       "    .dataframe thead th {\n",
       "        text-align: right;\n",
       "    }\n",
       "</style>\n",
       "<table border=\"1\" class=\"dataframe\">\n",
       "  <thead>\n",
       "    <tr style=\"text-align: right;\">\n",
       "      <th></th>\n",
       "      <th>name</th>\n",
       "      <th>height</th>\n",
       "      <th>mass</th>\n",
       "      <th>hair_color</th>\n",
       "      <th>skin_color</th>\n",
       "      <th>eye_color</th>\n",
       "      <th>birth_year</th>\n",
       "      <th>gender</th>\n",
       "      <th>homeworld</th>\n",
       "      <th>species</th>\n",
       "      <th>films</th>\n",
       "      <th>vehicles</th>\n",
       "      <th>starship</th>\n",
       "      <th>height_m</th>\n",
       "      <th>bmi</th>\n",
       "    </tr>\n",
       "  </thead>\n",
       "  <tbody>\n",
       "    <tr>\n",
       "      <th>15</th>\n",
       "      <td>Jabba Desilijic Tiure</td>\n",
       "      <td>175</td>\n",
       "      <td>1358.0</td>\n",
       "      <td>NaN</td>\n",
       "      <td>green-tan, brown</td>\n",
       "      <td>orange</td>\n",
       "      <td>600.0</td>\n",
       "      <td>hermaphrodite</td>\n",
       "      <td>Nal Hutta</td>\n",
       "      <td>Hutt</td>\n",
       "      <td>The Phantom Menace, Return of the Jedi, A New ...</td>\n",
       "      <td>NaN</td>\n",
       "      <td>NaN</td>\n",
       "      <td>1.75</td>\n",
       "      <td>443.428571</td>\n",
       "    </tr>\n",
       "    <tr>\n",
       "      <th>44</th>\n",
       "      <td>Dud Bolt</td>\n",
       "      <td>94</td>\n",
       "      <td>45.0</td>\n",
       "      <td>none</td>\n",
       "      <td>blue, grey</td>\n",
       "      <td>yellow</td>\n",
       "      <td>NaN</td>\n",
       "      <td>male</td>\n",
       "      <td>Vulpter</td>\n",
       "      <td>Vulptereen</td>\n",
       "      <td>The Phantom Menace</td>\n",
       "      <td>NaN</td>\n",
       "      <td>NaN</td>\n",
       "      <td>0.94</td>\n",
       "      <td>50.928022</td>\n",
       "    </tr>\n",
       "    <tr>\n",
       "      <th>18</th>\n",
       "      <td>Yoda</td>\n",
       "      <td>66</td>\n",
       "      <td>17.0</td>\n",
       "      <td>white</td>\n",
       "      <td>green</td>\n",
       "      <td>brown</td>\n",
       "      <td>896.0</td>\n",
       "      <td>male</td>\n",
       "      <td>NaN</td>\n",
       "      <td>Yoda's species</td>\n",
       "      <td>Attack of the Clones, The Phantom Menace, Reve...</td>\n",
       "      <td>NaN</td>\n",
       "      <td>NaN</td>\n",
       "      <td>0.66</td>\n",
       "      <td>39.026630</td>\n",
       "    </tr>\n",
       "    <tr>\n",
       "      <th>5</th>\n",
       "      <td>Owen Lars</td>\n",
       "      <td>178</td>\n",
       "      <td>120.0</td>\n",
       "      <td>brown, grey</td>\n",
       "      <td>light</td>\n",
       "      <td>blue</td>\n",
       "      <td>52.0</td>\n",
       "      <td>male</td>\n",
       "      <td>Tatooine</td>\n",
       "      <td>Human</td>\n",
       "      <td>Attack of the Clones, Revenge of the Sith, A N...</td>\n",
       "      <td>NaN</td>\n",
       "      <td>NaN</td>\n",
       "      <td>1.78</td>\n",
       "      <td>37.874006</td>\n",
       "    </tr>\n",
       "    <tr>\n",
       "      <th>21</th>\n",
       "      <td>IG-88</td>\n",
       "      <td>200</td>\n",
       "      <td>140.0</td>\n",
       "      <td>none</td>\n",
       "      <td>metal</td>\n",
       "      <td>red</td>\n",
       "      <td>15.0</td>\n",
       "      <td>none</td>\n",
       "      <td>NaN</td>\n",
       "      <td>Droid</td>\n",
       "      <td>The Empire Strikes Back</td>\n",
       "      <td>NaN</td>\n",
       "      <td>NaN</td>\n",
       "      <td>2.00</td>\n",
       "      <td>35.000000</td>\n",
       "    </tr>\n",
       "  </tbody>\n",
       "</table>\n",
       "</div>"
      ],
      "text/plain": [
       "                     name  height    mass   hair_color        skin_color  \\\n",
       "15  Jabba Desilijic Tiure     175  1358.0          NaN  green-tan, brown   \n",
       "44               Dud Bolt      94    45.0         none        blue, grey   \n",
       "18                   Yoda      66    17.0        white             green   \n",
       "5               Owen Lars     178   120.0  brown, grey             light   \n",
       "21                  IG-88     200   140.0         none             metal   \n",
       "\n",
       "   eye_color  birth_year         gender  homeworld         species  \\\n",
       "15    orange       600.0  hermaphrodite  Nal Hutta            Hutt   \n",
       "44    yellow         NaN           male    Vulpter      Vulptereen   \n",
       "18     brown       896.0           male        NaN  Yoda's species   \n",
       "5       blue        52.0           male   Tatooine           Human   \n",
       "21       red        15.0           none        NaN           Droid   \n",
       "\n",
       "                                                films vehicles starship  \\\n",
       "15  The Phantom Menace, Return of the Jedi, A New ...      NaN      NaN   \n",
       "44                                 The Phantom Menace      NaN      NaN   \n",
       "18  Attack of the Clones, The Phantom Menace, Reve...      NaN      NaN   \n",
       "5   Attack of the Clones, Revenge of the Sith, A N...      NaN      NaN   \n",
       "21                            The Empire Strikes Back      NaN      NaN   \n",
       "\n",
       "    height_m         bmi  \n",
       "15      1.75  443.428571  \n",
       "44      0.94   50.928022  \n",
       "18      0.66   39.026630  \n",
       "5       1.78   37.874006  \n",
       "21      2.00   35.000000  "
      ]
     },
     "execution_count": 66,
     "metadata": {},
     "output_type": "execute_result"
    }
   ],
   "source": [
    "bmi_calc_df.sort_values(\"bmi\", ascending=False).head()"
   ]
  },
  {
   "cell_type": "markdown",
   "metadata": {},
   "source": [
    "# Last thing to learn: Group By\n",
    "The last question I want to ask is: what is the average BMI forthe different sexes, for this we need a group by!"
   ]
  },
  {
   "cell_type": "code",
   "execution_count": 62,
   "metadata": {},
   "outputs": [
    {
     "data": {
      "text/html": [
       "<div>\n",
       "<style scoped>\n",
       "    .dataframe tbody tr th:only-of-type {\n",
       "        vertical-align: middle;\n",
       "    }\n",
       "\n",
       "    .dataframe tbody tr th {\n",
       "        vertical-align: top;\n",
       "    }\n",
       "\n",
       "    .dataframe thead th {\n",
       "        text-align: right;\n",
       "    }\n",
       "</style>\n",
       "<table border=\"1\" class=\"dataframe\">\n",
       "  <thead>\n",
       "    <tr style=\"text-align: right;\">\n",
       "      <th></th>\n",
       "      <th>bmi</th>\n",
       "    </tr>\n",
       "    <tr>\n",
       "      <th>gender</th>\n",
       "      <th></th>\n",
       "    </tr>\n",
       "  </thead>\n",
       "  <tbody>\n",
       "    <tr>\n",
       "      <th>female</th>\n",
       "      <td>18.820022</td>\n",
       "    </tr>\n",
       "    <tr>\n",
       "      <th>hermaphrodite</th>\n",
       "      <td>443.428571</td>\n",
       "    </tr>\n",
       "    <tr>\n",
       "      <th>male</th>\n",
       "      <td>25.650372</td>\n",
       "    </tr>\n",
       "    <tr>\n",
       "      <th>none</th>\n",
       "      <td>35.000000</td>\n",
       "    </tr>\n",
       "  </tbody>\n",
       "</table>\n",
       "</div>"
      ],
      "text/plain": [
       "                      bmi\n",
       "gender                   \n",
       "female          18.820022\n",
       "hermaphrodite  443.428571\n",
       "male            25.650372\n",
       "none            35.000000"
      ]
     },
     "execution_count": 62,
     "metadata": {},
     "output_type": "execute_result"
    }
   ],
   "source": [
    "bmi_calc_df[[\"gender\", \"bmi\"]].groupby(\"gender\").mean()"
   ]
  },
  {
   "cell_type": "markdown",
   "metadata": {},
   "source": [
    "We can do as many different aggreagates as we want here, there's loads of ways to do this depending on what you are trying to accomplish"
   ]
  },
  {
   "cell_type": "code",
   "execution_count": 65,
   "metadata": {},
   "outputs": [
    {
     "data": {
      "text/html": [
       "<div>\n",
       "<style scoped>\n",
       "    .dataframe tbody tr th:only-of-type {\n",
       "        vertical-align: middle;\n",
       "    }\n",
       "\n",
       "    .dataframe tbody tr th {\n",
       "        vertical-align: top;\n",
       "    }\n",
       "\n",
       "    .dataframe thead tr th {\n",
       "        text-align: left;\n",
       "    }\n",
       "\n",
       "    .dataframe thead tr:last-of-type th {\n",
       "        text-align: right;\n",
       "    }\n",
       "</style>\n",
       "<table border=\"1\" class=\"dataframe\">\n",
       "  <thead>\n",
       "    <tr>\n",
       "      <th></th>\n",
       "      <th colspan=\"3\" halign=\"left\">bmi</th>\n",
       "    </tr>\n",
       "    <tr>\n",
       "      <th></th>\n",
       "      <th>mean</th>\n",
       "      <th>median</th>\n",
       "      <th>count</th>\n",
       "    </tr>\n",
       "    <tr>\n",
       "      <th>gender</th>\n",
       "      <th></th>\n",
       "      <th></th>\n",
       "      <th></th>\n",
       "    </tr>\n",
       "  </thead>\n",
       "  <tbody>\n",
       "    <tr>\n",
       "      <th>female</th>\n",
       "      <td>18.820022</td>\n",
       "      <td>18.067511</td>\n",
       "      <td>10</td>\n",
       "    </tr>\n",
       "    <tr>\n",
       "      <th>hermaphrodite</th>\n",
       "      <td>443.428571</td>\n",
       "      <td>443.428571</td>\n",
       "      <td>1</td>\n",
       "    </tr>\n",
       "    <tr>\n",
       "      <th>male</th>\n",
       "      <td>25.650372</td>\n",
       "      <td>24.708270</td>\n",
       "      <td>44</td>\n",
       "    </tr>\n",
       "    <tr>\n",
       "      <th>none</th>\n",
       "      <td>35.000000</td>\n",
       "      <td>35.000000</td>\n",
       "      <td>1</td>\n",
       "    </tr>\n",
       "  </tbody>\n",
       "</table>\n",
       "</div>"
      ],
      "text/plain": [
       "                      bmi                  \n",
       "                     mean      median count\n",
       "gender                                     \n",
       "female          18.820022   18.067511    10\n",
       "hermaphrodite  443.428571  443.428571     1\n",
       "male            25.650372   24.708270    44\n",
       "none            35.000000   35.000000     1"
      ]
     },
     "execution_count": 65,
     "metadata": {},
     "output_type": "execute_result"
    }
   ],
   "source": [
    "bmi_calc_df[[\"gender\", \"bmi\"]].groupby(\"gender\").agg([\"mean\", \"median\", \"count\"])"
   ]
  },
  {
   "cell_type": "markdown",
   "metadata": {},
   "source": [
    "# Plotting\n",
    "This is a story for another day. Pandas has plenty of stuff tacked onto dataframe and series objects you can use. If you feel like something more then tryout Seaborn or Plotly. I use plotnine which is an implementation of [the grammar of graphics](https://www.amazon.co.uk/Grammar-Graphics-Statistics-Computing/dp/0387245448) but that makes it a little arcane.\n",
    "\n",
    "Here's a scatter plot in pandas for reference"
   ]
  },
  {
   "cell_type": "code",
   "execution_count": 67,
   "metadata": {},
   "outputs": [
    {
     "data": {
      "text/plain": [
       "<AxesSubplot:xlabel='height', ylabel='mass'>"
      ]
     },
     "execution_count": 67,
     "metadata": {},
     "output_type": "execute_result"
    },
    {
     "data": {
      "image/png": "[encoded data removed]",
      "text/plain": [
       "<Figure size 432x288 with 1 Axes>"
      ]
     },
     "metadata": {
      "needs_background": "light"
     },
     "output_type": "display_data"
    }
   ],
   "source": [
    "sw_df.plot.scatter(\"height\", \"mass\")"
   ]
  }
 ],
 "metadata": {
  "kernelspec": {
   "display_name": "Python 3 (ipykernel)",
   "language": "python",
   "name": "python3"
  },
  "language_info": {
   "codemirror_mode": {
    "name": "ipython",
    "version": 3
   },
   "file_extension": ".py",
   "mimetype": "text/x-python",
   "name": "python",
   "nbconvert_exporter": "python",
   "pygments_lexer": "ipython3",
   "version": "3.9.6"
  }
 },
 "nbformat": 4,
 "nbformat_minor": 4
}
